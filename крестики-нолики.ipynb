{
 "cells": [
  {
   "cell_type": "code",
   "execution_count": null,
   "id": "00e0dac2",
   "metadata": {},
   "outputs": [],
   "source": [
    "# крестики-нолики\n",
    "\n",
    "def print_field(field):\n",
    "    for row in field:\n",
    "        print(' | '.join(row))\n",
    "        print('-' * 9)\n",
    "\n",
    "\n",
    "def check_winner(field, player):\n",
    "    for i in range(3):\n",
    "        if field[i][0] == field[i][1] == field[i][2] == player or \\\n",
    "           field[0][i] == field[1][i] == field[2][i] == player:\n",
    "            return True\n",
    "    if field[0][0] == field[1][1] == field[2][2] == player or \\\n",
    "       field[0][2] == field[1][1] == field[2][0] == player:\n",
    "        return True\n",
    "    return False\n",
    "\n",
    "\n",
    "\n",
    "def play_game():\n",
    "    field = [[' ' for _ in range(3)] for _ in range(3)]\n",
    "    current_player = 'X'\n",
    "    while True:\n",
    "        print_field(field)\n",
    "\n",
    "        line = input(f\"Игрок {current_player}, введите номер строки (0-2): \")\n",
    "        column = input(f\"Игрок {current_player}, введите номер столбца (0-2): \")\n",
    "\n",
    "        if not line.isdigit() or not column.isdigit():\n",
    "            print(\"Некорректные координаты!\")\n",
    "            continue\n",
    "        line, column = int(line), int(column)\n",
    "        if line < 0 or line > 2 or column < 0 or column > 2:\n",
    "            print(\"Некорректные координаты!\")\n",
    "            continue\n",
    "        if field[line][column] != ' ':\n",
    "            print(\"Эта клетка уже занята!\")\n",
    "            continue\n",
    "\n",
    "        field[line][column] = current_player\n",
    "\n",
    "\n",
    "\n",
    "        if check_winner(field, current_player):\n",
    "            print(f\"Игрок {current_player} выиграл!\")\n",
    "            break\n",
    "        if all(all(cell != ' ' for cell in row) for row in field):\n",
    "            print(\"Ничья!\")\n",
    "            break\n",
    "\n",
    "\n",
    "        current_player = 'O' \\\n",
    "            if current_player == 'X' \\\n",
    "            else 'X'\n",
    "\n",
    "play_game()"
   ]
  },
  {
   "cell_type": "code",
   "execution_count": null,
   "id": "1f86897d",
   "metadata": {},
   "outputs": [],
   "source": []
  }
 ],
 "metadata": {
  "kernelspec": {
   "display_name": "Python 3 (ipykernel)",
   "language": "python",
   "name": "python3"
  },
  "language_info": {
   "codemirror_mode": {
    "name": "ipython",
    "version": 3
   },
   "file_extension": ".py",
   "mimetype": "text/x-python",
   "name": "python",
   "nbconvert_exporter": "python",
   "pygments_lexer": "ipython3",
   "version": "3.11.5"
  }
 },
 "nbformat": 4,
 "nbformat_minor": 5
}
