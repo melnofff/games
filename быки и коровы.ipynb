{
 "cells": [
  {
   "cell_type": "code",
   "execution_count": null,
   "id": "7f10d3b9",
   "metadata": {},
   "outputs": [],
   "source": [
    "import random\n",
    "\n",
    "def generate_number():\n",
    "    digits = random.sample(range(10), 4)\n",
    "    return ''.join(map(str, digits))\n",
    "\n",
    "def validate_input(user_input):\n",
    "    if len(user_input) != 4 or not user_input.isdigit():\n",
    "        return False\n",
    "    if len(set(user_input)) != 4:\n",
    "        return False\n",
    "    return True\n",
    "\n",
    "def count_bulls_and_cows(secret_number, guess):\n",
    "    bulls = 0\n",
    "    cows = 0\n",
    "    for i in range(len(secret_number)):\n",
    "        if secret_number[i] == guess[i]:\n",
    "            bulls += 1\n",
    "        if secret_number[i] in guess:\n",
    "            cows += 1\n",
    "    return bulls, cows\n",
    "\n",
    "def play_game():\n",
    "    secret_number = generate_number()\n",
    "    attempts = 0\n",
    "    while True:\n",
    "        user_input = input(\"Введите ваш вариант числа: \")\n",
    "        if not validate_input(user_input):\n",
    "            print(\"Некорректный ввод. Попробуйте еще раз.\")\n",
    "            continue\n",
    "        bulls, cows = count_bulls_and_cows(secret_number, user_input)\n",
    "        attempts += 1\n",
    "        print(f\"Быки: {bulls}, Коровы: {cows}\")\n",
    "        if bulls == 4:\n",
    "            print(f\"Поздравляю! Вы угадали число за {attempts} попыток.\")\n",
    "            break\n",
    "\n",
    "play_game()"
   ]
  }
 ],
 "metadata": {
  "kernelspec": {
   "display_name": "Python 3 (ipykernel)",
   "language": "python",
   "name": "python3"
  },
  "language_info": {
   "codemirror_mode": {
    "name": "ipython",
    "version": 3
   },
   "file_extension": ".py",
   "mimetype": "text/x-python",
   "name": "python",
   "nbconvert_exporter": "python",
   "pygments_lexer": "ipython3",
   "version": "3.11.5"
  }
 },
 "nbformat": 4,
 "nbformat_minor": 5
}
