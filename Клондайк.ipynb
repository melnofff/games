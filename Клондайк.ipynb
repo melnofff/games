{
 "cells": [
  {
   "cell_type": "code",
   "execution_count": null,
   "id": "dbbe7de9",
   "metadata": {},
   "outputs": [],
   "source": [
    "board = [[' ' for _ in range(10)] for _ in range(10)]\n",
    "\n",
    "def draw_board(board):\n",
    "    for row in board:\n",
    "        print(' | '.join(row))\n",
    "        print('-' * 37)\n",
    "\n",
    "def check_winner(board):\n",
    "    for row in range(10):\n",
    "        for col in range(10):\n",
    "            if board[row][col] != ' ':\n",
    "                if col < 8 and board[row][col] == board[row][col + 1] == board[row][col + 2]:\n",
    "                    return board[row][col]\n",
    "                if row < 8 and board[row][col] == board[row + 1][col] == board[row + 2][col]:\n",
    "                    return board[row][col]\n",
    "                if row < 8 and col < 8 and board[row][col] == board[row + 1][col + 1] == board[row + 2][col + 2]:\n",
    "                    return board[row][col]\n",
    "                if row < 8 and col > 1 and board[row][col] == board[row + 1][col - 1] == board[row + 2][col - 2]:\n",
    "                    return board[row][col]\n",
    "    return None\n",
    "\n",
    "def play_game():\n",
    "    player = 1\n",
    "    moves = 0\n",
    "\n",
    "    while True:\n",
    "        print(\"Ход игрока\", player)\n",
    "        draw_board(board)\n",
    "\n",
    "        while True:\n",
    "            row = int(input(\"Введите номер строки (от 1 до 10): \")) - 1\n",
    "            col = int(input(\"Введите номер столбца (от 1 до 10): \")) - 1\n",
    "            if row in range(10) and col in range(10) and board[row][col] == ' ':\n",
    "                break\n",
    "            else:\n",
    "                print(\"Некорректный ход. Попробуйте еще раз.\")\n",
    "\n",
    "        board[row][col] = 'O' if player == 1 else 'X'\n",
    "        moves += 1\n",
    "\n",
    "        winner = check_winner(board)\n",
    "        if winner:\n",
    "            draw_board(board)\n",
    "            print(\"Победил игрок\", player)\n",
    "            break\n",
    "\n",
    "        if moves == 100:\n",
    "            draw_board(board)\n",
    "            print(\"Ничья\")\n",
    "            break\n",
    "\n",
    "        player = 2 if player == 1 else 1\n",
    "\n",
    "play_game()"
   ]
  }
 ],
 "metadata": {
  "kernelspec": {
   "display_name": "Python 3 (ipykernel)",
   "language": "python",
   "name": "python3"
  },
  "language_info": {
   "codemirror_mode": {
    "name": "ipython",
    "version": 3
   },
   "file_extension": ".py",
   "mimetype": "text/x-python",
   "name": "python",
   "nbconvert_exporter": "python",
   "pygments_lexer": "ipython3",
   "version": "3.11.5"
  }
 },
 "nbformat": 4,
 "nbformat_minor": 5
}
